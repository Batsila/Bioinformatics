{
 "cells": [
  {
   "cell_type": "code",
   "execution_count": 13,
   "metadata": {},
   "outputs": [],
   "source": [
    "import numpy as np\n",
    "d = 1\n",
    "letters = {'A': 0,'R': 1,'N': 2,'D': 3, 'C': 4 ,'E' : 6,'Q': 5,'G': 7,'H': 8,\n",
    "           'I' : 9,'L' : 10, 'K' : 11,'M' : 12,'F' : 13,'P' : 14,'S' : 15,'T' : 16,'W' : 17,\n",
    "           'Y' : 18,'V' : 19, 'B' : 20, 'Z' : 21, 'X' : 22, '*' : 23}\n",
    "file = open(\"BLOSUM.txt\", \"r\")\n",
    "BLOSUM = file.read()\n",
    "file.close()\n",
    "file = open(\"PAM.txt\", \"r\")\n",
    "PAM = file.read()\n",
    "file.close()"
   ]
  },
  {
   "cell_type": "code",
   "execution_count": 18,
   "metadata": {},
   "outputs": [],
   "source": [
    "def init_matrix(x, y):\n",
    "    f = np.zeros((len(x) + 1, len(y) + 1), int)\n",
    "    for i in range(len(x) + 1):\n",
    "        f[i][0] = -i * d\n",
    "    for i in range(len(y) + 1):\n",
    "        f[0][i] = -i * d\n",
    "    return f\n",
    "\n",
    "def g(x, y, matrix):\n",
    "    if matrix is 'PAM':\n",
    "        lines = PAM.split('\\n')\n",
    "    else:\n",
    "        lines = BLOSUM.split('\\n')\n",
    "    toks = lines[letters[x] + 1].split()\n",
    "    return int(toks[letters[y] + 1])\n",
    "\n",
    "def local_alignment(x, y, matrix):\n",
    "    f = init_matrix(x, y)\n",
    "    p = np.zeros((len(x), len(y)), str)\n",
    "    for i in range(1, len(x) + 1, 1):\n",
    "        for j in range(1, len(y) + 1, 1):\n",
    "            match = f[i - 1][j - 1] + g(x[i - 1], y[j - 1], matrix)\n",
    "            delete = f[i - 1][j] - d\n",
    "            insert = f[i][j - 1] - d\n",
    "            max_v = max(match, insert, delete, 0)\n",
    "            if max_v is delete:\n",
    "                p[i - 1][j - 1] = \"d\"\n",
    "            elif max_v is insert:\n",
    "                p[i - 1][j - 1] = \"i\"\n",
    "            elif max_v is match:\n",
    "                p[i - 1][j - 1] = \"m\"\n",
    "            elif max_v is 0:\n",
    "                p[i - 1][j - 1] = \"s\"\n",
    "            f[i][j] = max_v\n",
    "    return (f[-1][-1], p)\n",
    "\n",
    "def restore(p):\n",
    "    i = len(p[:,1]) - 1\n",
    "    j = len(p[1,:]) - 1\n",
    "    way = \"\"\n",
    "    while i > 0 and j > 0:\n",
    "        way += p[i][j]\n",
    "        if p[i][j] == \"m\":\n",
    "            i -= 1\n",
    "            j -= 1\n",
    "        elif p[i][j] == \"d\":\n",
    "            j -= 1\n",
    "        elif p[i][j] == \"i\":\n",
    "            i -= 1\n",
    "        elif p[i][j] == \"s\":\n",
    "            break\n",
    "    return way[::-1]"
   ]
  },
  {
   "cell_type": "code",
   "execution_count": 20,
   "metadata": {},
   "outputs": [
    {
     "name": "stdout",
     "output_type": "stream",
     "text": [
      "Score: 47\n",
      "Way: mmmmmmmmm\n",
      "Score: 53\n",
      "Way: mmmmmmmmm\n"
     ]
    }
   ],
   "source": [
    "x = \"ACGTGATGCTAGCAT\"\n",
    "y = \"ATGCTAGCAT\"\n",
    "score, p = local_alignment(x, y, 'PAM')\n",
    "way = restore(p)\n",
    "print(\"Score: \" + str(score))\n",
    "print(\"Way: \" + way)\n",
    "\n",
    "score, p = local_alignment(x, y, 'BLOSUM')\n",
    "way = restore(p)\n",
    "print(\"Score: \" + str(score))\n",
    "print(\"Way: \" + way)"
   ]
  }
 ],
 "metadata": {
  "kernelspec": {
   "display_name": "Python 3",
   "language": "python",
   "name": "python3"
  },
  "language_info": {
   "codemirror_mode": {
    "name": "ipython",
    "version": 3
   },
   "file_extension": ".py",
   "mimetype": "text/x-python",
   "name": "python",
   "nbconvert_exporter": "python",
   "pygments_lexer": "ipython3",
   "version": "3.7.3"
  }
 },
 "nbformat": 4,
 "nbformat_minor": 2
}
