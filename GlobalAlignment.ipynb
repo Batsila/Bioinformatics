{
 "cells": [
  {
   "cell_type": "code",
   "execution_count": 3,
   "metadata": {},
   "outputs": [],
   "source": [
    "import numpy as np\n",
    "d = 1"
   ]
  },
  {
   "cell_type": "code",
   "execution_count": 4,
   "metadata": {},
   "outputs": [],
   "source": [
    "def init_matrix(x, y):\n",
    "    f = np.zeros((len(x) + 1, len(y) + 1), int)\n",
    "    for i in range(len(x) + 1):\n",
    "        f[i][0] = -i * d\n",
    "    for i in range(len(y) + 1):\n",
    "        f[0][i] = -i * d\n",
    "    return f\n",
    "\n",
    "def g(x, y):\n",
    "    if x != y:\n",
    "        return -d\n",
    "    else:\n",
    "        return d\n",
    "\n",
    "def global_alignment(x, y):\n",
    "    f = init_matrix(x, y)\n",
    "    p = np.zeros((len(x), len(y)), str)\n",
    "    for i in range(1, len(x) + 1, 1):\n",
    "        for j in range(1, len(y) + 1, 1):\n",
    "            match = f[i - 1][j - 1] + g(x[i - 1], y[j - 1])\n",
    "            delete = f[i - 1][j] - d\n",
    "            insert = f[i][j - 1] - d\n",
    "            max_v = max(match, insert, delete)\n",
    "            if max_v == delete:\n",
    "                p[i - 1][j - 1] = \"d\"\n",
    "            elif max_v == insert:\n",
    "                p[i - 1][j - 1] = \"i\"\n",
    "            else:\n",
    "                p[i - 1][j - 1] = \"m\"\n",
    "            f[i][j] = max_v\n",
    "    return (f[-1][-1], p)\n",
    "\n",
    "def restore(p):\n",
    "    i = len(p[:,1]) - 1\n",
    "    j = len(p[1,:]) - 1\n",
    "    way = \"\"\n",
    "    while i > 0 and j > 0:\n",
    "        way += p[i][j]\n",
    "        if p[i][j] == \"m\":\n",
    "            i -= 1\n",
    "            j -= 1\n",
    "        elif p[i][j] == \"d\":\n",
    "            j -= 1\n",
    "        elif p[i][j] == \"i\":\n",
    "            i -= 1\n",
    "    return way[::-1]"
   ]
  },
  {
   "cell_type": "code",
   "execution_count": 5,
   "metadata": {},
   "outputs": [
    {
     "name": "stdout",
     "output_type": "stream",
     "text": [
      "Score: 15\n",
      "Way: mmmmmmmmmmmmmm\n"
     ]
    }
   ],
   "source": [
    "x = \"ACGTGATGCTAGCAT\"\n",
    "y = \"ACGTGATGCTAGCAT\"\n",
    "score, p = global_alignment(x, y)\n",
    "way = restore(p)\n",
    "print(\"Score: \" + str(score))\n",
    "print(\"Way: \" + way)"
   ]
  },
  {
   "cell_type": "code",
   "execution_count": 6,
   "metadata": {},
   "outputs": [
    {
     "name": "stdout",
     "output_type": "stream",
     "text": [
      "Score: 5\n",
      "Way: iimmmmmmm\n"
     ]
    }
   ],
   "source": [
    "x = \"ATGCTAGCAT\"\n",
    "y = \"ACGTGATGCTAGCAT\"\n",
    "score, p = global_alignment(x, y)\n",
    "way = restore(p)\n",
    "print(\"Score: \" + str(score))\n",
    "print(\"Way: \" + way)"
   ]
  },
  {
   "cell_type": "code",
   "execution_count": 7,
   "metadata": {},
   "outputs": [
    {
     "name": "stdout",
     "output_type": "stream",
     "text": [
      "Score: 5\n",
      "Way: ddmmmmmmm\n"
     ]
    }
   ],
   "source": [
    "y = \"ATGCTAGCAT\"\n",
    "x = \"ACGTGATGCTAGCAT\"\n",
    "score, p = global_alignment(x, y)\n",
    "way = restore(p)\n",
    "print(\"Score: \" + str(score))\n",
    "print(\"Way: \" + way)"
   ]
  }
 ],
 "metadata": {
  "kernelspec": {
   "display_name": "Python 3",
   "language": "python",
   "name": "python3"
  },
  "language_info": {
   "codemirror_mode": {
    "name": "ipython",
    "version": 3
   },
   "file_extension": ".py",
   "mimetype": "text/x-python",
   "name": "python",
   "nbconvert_exporter": "python",
   "pygments_lexer": "ipython3",
   "version": "3.6.7"
  }
 },
 "nbformat": 4,
 "nbformat_minor": 2
}
