{
 "cells": [
  {
   "cell_type": "markdown",
   "metadata": {},
   "source": [
    "1.\tДля следующих двух последовательностей постройте простой точечный график. Поместите последовательности вдоль осей и поставьте точку для каждой идентичной пары.\n",
    "GCTAGTCAGATCTGACGCTA\n",
    "GATGGTCACATCTGCCGC\n",
    "Имеется ли на графике область схожести? Опишите."
   ]
  },
  {
   "cell_type": "code",
   "execution_count": 1,
   "metadata": {},
   "outputs": [],
   "source": [
    "%matplotlib inline\n",
    "import matplotlib.pyplot as plt\n",
    "import numpy as np"
   ]
  },
  {
   "cell_type": "code",
   "execution_count": 2,
   "metadata": {},
   "outputs": [],
   "source": [
    "seq1 = 'GCTAGTCAGATCTGACGCTA'\n",
    "seq2 = 'GATGGTCACATCTGCCGC'"
   ]
  },
  {
   "cell_type": "code",
   "execution_count": 66,
   "metadata": {},
   "outputs": [
    {
     "data": {
      "image/png": "[encoded data removed]",
      "text/plain": [
       "<Figure size 432x288 with 1 Axes>"
      ]
     },
     "metadata": {
      "needs_background": "light"
     },
     "output_type": "display_data"
    }
   ],
   "source": [
    "c_i = 0\n",
    "equal_x = []\n",
    "equal_y = []\n",
    "for i in seq2:\n",
    "    c_j = 0\n",
    "    for j in seq1:\n",
    "        if i == j:\n",
    "            equal_x.append(c_i)\n",
    "            equal_y.append(c_j)\n",
    "        c_j += 1\n",
    "    c_i += 1\n",
    "yp = None\n",
    "\n",
    "fig, ax = plt.subplots()\n",
    "ax.plot(equal_x, equal_y, 'o')\n",
    "plt.show()"
   ]
  },
  {
   "cell_type": "markdown",
   "metadata": {},
   "source": [
    "Как видно из графика последовательности достаточно схожи"
   ]
  },
  {
   "cell_type": "markdown",
   "metadata": {},
   "source": [
    "2.\tПроанализируйте два выравнивания ниже\n",
    "Alignment 1\n",
    "Seq1       AGTGTGAAGGTCCCGGCTAAT---CG\n",
    "           : :: :  : :   ::: :::   ::\n",
    "Seq2       A-TGCG--GCTAATGGC-AATATACG\n",
    " Alignment 2\n",
    "Seq1       AGTGTGAAGGTCCCGGCTAAT---------CG\n",
    "           :   ::       ::::::::         ::\n",
    "Seq2       A---TG-------CGGCTAATGGCAATATACG\n",
    "Эти выравнивания были выполнены с использованием того же штрафа за открытие гэпа, но с различными штрафами за продолжение гэпа. Что можно сказать о значениях штрафов за продолжение гэпа для каждого их выравниваний?\n"
   ]
  },
  {
   "cell_type": "markdown",
   "metadata": {},
   "source": [
    "Очевидно, что во второй последовательности штраф за продление гэпа(делеции) уменьшается за каждую делецию идущую вподряд.\n",
    "Поэтому во второй последовательности мы наблюдаем больште по сравнению с первой последовательностью гэпы.\n",
    "Уменьшение штрафа логично обуславливает то, что при делеция подразумевает вырезание какого-то куска и важнейшим является факт его наличие, а не размера"
   ]
  },
  {
   "cell_type": "markdown",
   "metadata": {},
   "source": [
    "3. Заполните следующие таблицы динамического программирования с использованием параметров: (совпадение(match) +1, несовпадение (mismatch) -1, инделы -1). Запишите оптимальное выравнивание и рассчитанное значение коэффициента сходства двух последовательностей. Покажите в таблице путь соответствующий оптимальному выравниванию.\n",
    "AACGTTAC\n",
    "CGATAAC \t \t \t \t \t \t \t "
   ]
  },
  {
   "cell_type": "code",
   "execution_count": 61,
   "metadata": {},
   "outputs": [],
   "source": [
    "def init_matrix(x, y):\n",
    "    f = np.zeros((len(x) + 1, len(y) + 1), int)\n",
    "    for i in range(len(x) + 1):\n",
    "        f[i][0] = -i\n",
    "    for i in range(len(y) + 1):\n",
    "        f[0][i] = -i\n",
    "    return f\n",
    "\n",
    "def g(x, y):\n",
    "    if x != y:\n",
    "        return -1\n",
    "    else:\n",
    "        return 1\n",
    "\n",
    "def global_alignment(x, y):\n",
    "    f = init_matrix(x, y)\n",
    "    for i in range(1, len(x) + 1, 1):\n",
    "        for j in range(1, len(y) + 1, 1):\n",
    "            match = f[i - 1][j - 1] + g(x[i - 1], y[j - 1])\n",
    "            delete = f[i - 1][j] - 1\n",
    "            insert = f[i][j - 1] - 1\n",
    "            f[i][j] = max(match, insert, delete)\n",
    "    return f\n",
    "\n",
    "def local_alignment(x, y):\n",
    "    f = init_matrix(x, y)\n",
    "    for i in range(1, len(x) + 1, 1):\n",
    "        for j in range(1, len(y) + 1, 1):\n",
    "            match = f[i - 1][j - 1] + g(x[i - 1], y[j - 1])\n",
    "            delete = f[i - 1][j] - 1\n",
    "            insert = f[i][j - 1] - 1\n",
    "            f[i][j] = max(match, insert, delete, 0)\n",
    "    return f"
   ]
  },
  {
   "cell_type": "code",
   "execution_count": 62,
   "metadata": {},
   "outputs": [],
   "source": [
    "dna1 = 'AACGTTAC'\n",
    "dna2 = 'CGATAAC'"
   ]
  },
  {
   "cell_type": "code",
   "execution_count": 63,
   "metadata": {},
   "outputs": [
    {
     "name": "stdout",
     "output_type": "stream",
     "text": [
      "global\n",
      "[[ 0 -1 -2 -3 -4 -5 -6 -7]\n",
      " [-1 -1 -2 -1 -2 -3 -4 -5]\n",
      " [-2 -2 -2 -1 -2 -1 -2 -3]\n",
      " [-3 -1 -2 -2 -2 -2 -2 -1]\n",
      " [-4 -2  0 -1 -2 -3 -3 -2]\n",
      " [-5 -3 -1 -1  0 -1 -2 -3]\n",
      " [-6 -4 -2 -2  0 -1 -2 -3]\n",
      " [-7 -5 -3 -1 -1  1  0 -1]\n",
      " [-8 -6 -4 -2 -2  0  0  1]]\n"
     ]
    }
   ],
   "source": [
    "ga = global_alignment(dna1, dna2)\n",
    "print('global')\n",
    "print(ga)"
   ]
  },
  {
   "cell_type": "code",
   "execution_count": 64,
   "metadata": {},
   "outputs": [
    {
     "name": "stdout",
     "output_type": "stream",
     "text": [
      "local\n",
      "[[ 0 -1 -2 -3 -4 -5 -6 -7]\n",
      " [-1 -1 -2 -1 -2 -3 -4 -5]\n",
      " [-2 -2 -2 -1 -2 -1 -2 -3]\n",
      " [-3 -1 -2 -2 -2 -2 -2 -1]\n",
      " [-4 -2  0 -1 -2 -3 -3 -2]\n",
      " [-5 -3 -1 -1  0 -1 -2 -3]\n",
      " [-6 -4 -2 -2  0 -1 -2 -3]\n",
      " [-7 -5 -3 -1 -1  1  0 -1]\n",
      " [-8 -6 -4 -2 -2  0  0  1]]\n"
     ]
    }
   ],
   "source": [
    "la = global_alignment(dna1, dna2)\n",
    "print('local')\n",
    "print(la)"
   ]
  },
  {
   "cell_type": "markdown",
   "metadata": {},
   "source": [
    "4. В таблице приведено два выравнивания аминокислотных последовательностей KNAAWPG и KQWAALSPG.\n",
    "Рассчитайте коэффициенты выравнивания для первого и второго выравнивания используя две матрицы замен BLOSUM-50 и ID-6,3. В обоих случаях гэпы штрафуются, используя аффинные штрафы (открытие гэпа: -8, продолжение гэпа -1)."
   ]
  },
  {
   "cell_type": "markdown",
   "metadata": {},
   "source": [
    "alg1 BLOSUM-50 15\n",
    "\n",
    "alg1 ID-6,3 -2\n",
    "\n",
    "alg2 BLOSUM-50 12\n",
    "\n",
    "alg2 ID-6,3 4"
   ]
  }
 ],
 "metadata": {
  "kernelspec": {
   "display_name": "Python 3",
   "language": "python",
   "name": "python3"
  },
  "language_info": {
   "codemirror_mode": {
    "name": "ipython",
    "version": 3
   },
   "file_extension": ".py",
   "mimetype": "text/x-python",
   "name": "python",
   "nbconvert_exporter": "python",
   "pygments_lexer": "ipython3",
   "version": "3.6.7"
  }
 },
 "nbformat": 4,
 "nbformat_minor": 2
}
