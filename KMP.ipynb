{
 "cells": [
  {
   "cell_type": "code",
   "execution_count": 7,
   "metadata": {},
   "outputs": [],
   "source": [
    "def kmp_algorithm(string, pattern):\n",
    "    pattern = list(pattern)\n",
    "\n",
    "    shifts = [1] * (len(pattern) + 1)\n",
    "    shift = 1\n",
    "    for i in range(len(pattern)):\n",
    "        while shift <= i and pattern[i] is not pattern[i - shift]:\n",
    "            shift += shifts[i - shift]\n",
    "        shifts[i + 1] = shift\n",
    "    \n",
    "    occurrences = []\n",
    "    start = 0\n",
    "    j = 0\n",
    "    for s in string:\n",
    "        while j is len(pattern) or j >= 0 and pattern[j] is not s:\n",
    "            start += shifts[j]\n",
    "            j -= shifts[j]\n",
    "        j += 1\n",
    "        if j is len(pattern):\n",
    "            occurrences.append(start)\n",
    "    if len(occurrences) is not 0:\n",
    "        return occurrences\n",
    "    else:\n",
    "        return -42"
   ]
  },
  {
   "cell_type": "code",
   "execution_count": 8,
   "metadata": {},
   "outputs": [
    {
     "name": "stdout",
     "output_type": "stream",
     "text": [
      "[33, 45, 61]\n",
      "-42\n"
     ]
    }
   ],
   "source": [
    "string = 'ttttttttttttttttttttttttttttttttttesttttttttttesttttttttttttttestttttttttttttt'\n",
    "pattern_1 = 'test'\n",
    "pattern_2 = 'testtest'\n",
    "\n",
    "print (kmp_algorithm(string, pattern_1))\n",
    "print (kmp_algorithm(string, pattern_2))"
   ]
  }
 ],
 "metadata": {
  "kernelspec": {
   "display_name": "Python 3",
   "language": "python",
   "name": "python3"
  },
  "language_info": {
   "codemirror_mode": {
    "name": "ipython",
    "version": 3
   },
   "file_extension": ".py",
   "mimetype": "text/x-python",
   "name": "python",
   "nbconvert_exporter": "python",
   "pygments_lexer": "ipython3",
   "version": "3.7.3"
  }
 },
 "nbformat": 4,
 "nbformat_minor": 2
}
