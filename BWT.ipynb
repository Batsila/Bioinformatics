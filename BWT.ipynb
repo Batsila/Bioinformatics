{
 "cells": [
  {
   "cell_type": "code",
   "execution_count": 4,
   "metadata": {},
   "outputs": [],
   "source": [
    "import numpy as np\n",
    "from copy import deepcopy"
   ]
  },
  {
   "cell_type": "code",
   "execution_count": 5,
   "metadata": {},
   "outputs": [],
   "source": [
    "def FM_index(bwt):\n",
    "    fb = []\n",
    "    for i in bwt:\n",
    "        check = True\n",
    "        for j in range(0, len(fb)):\n",
    "            if i == fb[j]:\n",
    "                check = False\n",
    "                break\n",
    "        if check:\n",
    "            fb.append(i)\n",
    "    fb = np.sort(fb)\n",
    "    letters = {}\n",
    "    \n",
    "    for i in range(0, len(fb)):\n",
    "        letters.update({fb[i] : i})\n",
    "\n",
    "    fm = [[0] * len(fb)]\n",
    "    for i in range(0, len(bwt)):\n",
    "        fm.append(deepcopy(fm[i]))\n",
    "        fm[i + 1][letters[bwt[i]]] += 1\n",
    "        \n",
    "    offsets = []\n",
    "    temp = 0\n",
    "    for i in range(0, len(fb)):\n",
    "        offsets.append(temp)\n",
    "        temp += fm[len(fm) - 1][i]\n",
    "        \n",
    "    return fm, offsets, letters"
   ]
  },
  {
   "cell_type": "code",
   "execution_count": 6,
   "metadata": {},
   "outputs": [
    {
     "name": "stdout",
     "output_type": "stream",
     "text": [
      "[[0, 0, 0, 0], [0, 1, 0, 0], [0, 1, 0, 1], [0, 1, 0, 2], [0, 1, 1, 2], [1, 1, 1, 2], [1, 2, 1, 2], [1, 3, 1, 2]]\n",
      "[0, 1, 4, 5]\n",
      "{'$': 0, 'a': 1, 'b': 2, 'n': 3}\n"
     ]
    }
   ],
   "source": [
    "fm, offsets, letters = FM_index('annb$aa')\n",
    "print(fm)\n",
    "print(offsets)\n",
    "print(letters)"
   ]
  },
  {
   "cell_type": "code",
   "execution_count": 7,
   "metadata": {},
   "outputs": [],
   "source": [
    "def findBWT(string, fm, offsets, letters):\n",
    "    l = 0\n",
    "    h = len(fm) - 1\n",
    "    for i in string[::-1]:\n",
    "        l = offsets[letters[i]] + fm[l][letters[i]]\n",
    "        h = offsets[letters[i]] + fm[h][letters[i]]\n",
    "    return l, h"
   ]
  },
  {
   "cell_type": "code",
   "execution_count": 8,
   "metadata": {},
   "outputs": [
    {
     "name": "stdout",
     "output_type": "stream",
     "text": [
      "(2, 4)\n",
      "(4, 5)\n",
      "(4, 4)\n"
     ]
    }
   ],
   "source": [
    "print(findBWT('ana', fm, offsets, letters))\n",
    "print(findBWT('ban', fm, offsets, letters))\n",
    "print(findBWT('ann', fm, offsets, letters))"
   ]
  },
  {
   "cell_type": "code",
   "execution_count": 11,
   "metadata": {},
   "outputs": [],
   "source": [
    "def BWT(string):\n",
    "    arr = []\n",
    "    for i in range(len(string)):\n",
    "        arr.append(string[i:] + string[:i])\n",
    "    arr = np.sort(arr)\n",
    "    res = ''\n",
    "    for i in range(len(string)):\n",
    "        res += arr[i][len(string) - 1]\n",
    "    return res"
   ]
  },
  {
   "cell_type": "code",
   "execution_count": 12,
   "metadata": {},
   "outputs": [
    {
     "name": "stdout",
     "output_type": "stream",
     "text": [
      "aerht$el\n",
      "npaaaaalaanla$panmnmac\n",
      "b$aanna\n",
      "nbaaaan$nba\n"
     ]
    }
   ],
   "source": [
    "print(BWT(\"ltherea$\"))\n",
    "print(BWT(\"amnnn$lcpmnapaaaaaaala\"))\n",
    "print(BWT(\"annb$aa\"))\n",
    "print(BWT(\"nn$bnbaaaaa\"))"
   ]
  }
 ],
 "metadata": {
  "kernelspec": {
   "display_name": "Python 3",
   "language": "python",
   "name": "python3"
  },
  "language_info": {
   "codemirror_mode": {
    "name": "ipython",
    "version": 3
   },
   "file_extension": ".py",
   "mimetype": "text/x-python",
   "name": "python",
   "nbconvert_exporter": "python",
   "pygments_lexer": "ipython3",
   "version": "3.7.3"
  }
 },
 "nbformat": 4,
 "nbformat_minor": 2
}
