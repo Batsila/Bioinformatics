{
 "cells": [
  {
   "cell_type": "code",
   "execution_count": 1,
   "metadata": {
    "pycharm": {
     "is_executing": false
    }
   },
   "outputs": [],
   "source": [
    "from sklearn.cluster import DBSCAN\n",
    "import ast\n",
    "import pandas as pd\n",
    "import numpy as np"
   ]
  },
  {
   "cell_type": "markdown",
   "metadata": {
    "pycharm": {
     "is_executing": false,
     "metadata": false,
     "name": "#%%\n"
    }
   },
   "source": [
    "Jupyter online do not support Bio. So distances was calculated offline."
   ]
  },
  {
   "cell_type": "code",
   "execution_count": 2,
   "metadata": {
    "pycharm": {
     "is_executing": false,
     "metadata": false,
     "name": "#%%\n"
    }
   },
   "outputs": [],
   "source": [
    "dict_str = \"{'Fin_whale': {'Monkey_macaque': 0.097789, 'Human': 0.092581, 'Fruit_fly': 0.37288499999999997, 'Methanocaldococcus_jannaschii': 0.733202, 'Pyrococcus': 0.708024, 'Yeast': 0.448114, 'Soy': 0.39870199999999995, 'Arabidopsis': 0.39979, 'Rice': 0.40624899999999997, 'African_frog': 0.27521399999999996, 'Salmon': 0.38013299999999994, 'Rat': 0.125989, 'Mouse': 0.119174, 'Pig': 0.076305, 'Fin_whale': 0}, 'Monkey_macaque': {'Fin_whale': 0.097789, 'Human': 0.028112, 'Fruit_fly': 0.37030399999999997, 'Methanocaldococcus_jannaschii': 0.7306210000000001, 'Pyrococcus': 0.705443, 'Yeast': 0.44553299999999996, 'Soy': 0.39612099999999995, 'Arabidopsis': 0.3972089999999999, 'Rice': 0.40366799999999997, 'African_frog': 0.27263299999999996, 'Salmon': 0.377552, 'Rat': 0.12340799999999999, 'Mouse': 0.116593, 'Pig': 0.102198, 'Monkey_macaque': 0}, 'Human': {'Fin_whale': 0.092581, 'Monkey_macaque': 0.028112, 'Fruit_fly': 0.365096, 'Methanocaldococcus_jannaschii': 0.7254130000000001, 'Pyrococcus': 0.700235, 'Yeast': 0.44032499999999997, 'Soy': 0.39091299999999995, 'Arabidopsis': 0.39200099999999993, 'Rice': 0.39846, 'African_frog': 0.26742499999999997, 'Salmon': 0.372344, 'Rat': 0.1182, 'Mouse': 0.111385, 'Pig': 0.09698999999999999, 'Human': 0}, 'Fruit_fly': {'Fin_whale': 0.37288499999999997, 'Monkey_macaque': 0.37030399999999997, 'Human': 0.365096, 'Methanocaldococcus_jannaschii': 0.737639, 'Pyrococcus': 0.712461, 'Yeast': 0.45255100000000004, 'Soy': 0.403139, 'Arabidopsis': 0.404227, 'Rice': 0.410686, 'African_frog': 0.354575, 'Salmon': 0.45949399999999996, 'Rat': 0.357888, 'Mouse': 0.35107299999999997, 'Pig': 0.37729399999999996, 'Fruit_fly': 0}, 'Methanocaldococcus_jannaschii': {'Fin_whale': 0.733202, 'Monkey_macaque': 0.7306210000000001, 'Human': 0.7254130000000001, 'Fruit_fly': 0.737639, 'Pyrococcus': 0.228916, 'Yeast': 0.6802600000000001, 'Soy': 0.7247380000000001, 'Arabidopsis': 0.7258260000000001, 'Rice': 0.7322850000000001, 'African_frog': 0.7148920000000001, 'Salmon': 0.8198110000000001, 'Rat': 0.7182050000000001, 'Mouse': 0.7113900000000001, 'Pig': 0.737611, 'Methanocaldococcus_jannaschii': 0}, 'Pyrococcus': {'Fin_whale': 0.708024, 'Monkey_macaque': 0.705443, 'Human': 0.700235, 'Fruit_fly': 0.712461, 'Methanocaldococcus_jannaschii': 0.228916, 'Yeast': 0.655082, 'Soy': 0.69956, 'Arabidopsis': 0.700648, 'Rice': 0.707107, 'African_frog': 0.689714, 'Salmon': 0.794633, 'Rat': 0.6930270000000001, 'Mouse': 0.686212, 'Pig': 0.712433, 'Pyrococcus': 0}, 'Yeast': {'Fin_whale': 0.448114, 'Monkey_macaque': 0.44553299999999996, 'Human': 0.44032499999999997, 'Fruit_fly': 0.45255100000000004, 'Methanocaldococcus_jannaschii': 0.6802600000000001, 'Pyrococcus': 0.655082, 'Soy': 0.43965, 'Arabidopsis': 0.44073799999999996, 'Rice': 0.447197, 'African_frog': 0.42980399999999996, 'Salmon': 0.5347230000000001, 'Rat': 0.433117, 'Mouse': 0.42630199999999996, 'Pig': 0.452523, 'Yeast': 0}, 'Soy': {'Fin_whale': 0.39870199999999995, 'Monkey_macaque': 0.39612099999999995, 'Human': 0.39091299999999995, 'Fruit_fly': 0.403139, 'Methanocaldococcus_jannaschii': 0.7247380000000001, 'Pyrococcus': 0.69956, 'Yeast': 0.43965, 'Arabidopsis': 0.21887600000000001, 'Rice': 0.32074100000000005, 'African_frog': 0.38039199999999995, 'Salmon': 0.485311, 'Rat': 0.38370499999999996, 'Mouse': 0.37688999999999995, 'Pig': 0.40311099999999994, 'Soy': 0}, 'Arabidopsis': {'Fin_whale': 0.39979, 'Monkey_macaque': 0.3972089999999999, 'Human': 0.39200099999999993, 'Fruit_fly': 0.404227, 'Methanocaldococcus_jannaschii': 0.7258260000000001, 'Pyrococcus': 0.700648, 'Yeast': 0.44073799999999996, 'Soy': 0.21887600000000001, 'Rice': 0.32182900000000003, 'African_frog': 0.38148000000000004, 'Salmon': 0.486399, 'Rat': 0.38479299999999994, 'Mouse': 0.3779779999999999, 'Pig': 0.404199, 'Arabidopsis': 0}, 'Rice': {'Fin_whale': 0.40624899999999997, 'Monkey_macaque': 0.40366799999999997, 'Human': 0.39846, 'Fruit_fly': 0.410686, 'Methanocaldococcus_jannaschii': 0.7322850000000001, 'Pyrococcus': 0.707107, 'Yeast': 0.447197, 'Soy': 0.32074100000000005, 'Arabidopsis': 0.32182900000000003, 'African_frog': 0.38793900000000003, 'Salmon': 0.492858, 'Rat': 0.391252, 'Mouse': 0.38443700000000003, 'Pig': 0.41065799999999997, 'Rice': 0}, 'African_frog': {'Fin_whale': 0.27521399999999996, 'Monkey_macaque': 0.27263299999999996, 'Human': 0.26742499999999997, 'Fruit_fly': 0.354575, 'Methanocaldococcus_jannaschii': 0.7148920000000001, 'Pyrococcus': 0.689714, 'Yeast': 0.42980399999999996, 'Soy': 0.38039199999999995, 'Arabidopsis': 0.38148000000000004, 'Rice': 0.38793900000000003, 'Salmon': 0.301205, 'Rat': 0.260217, 'Mouse': 0.253402, 'Pig': 0.27962299999999995, 'African_frog': 0}, 'Salmon': {'Fin_whale': 0.38013299999999994, 'Monkey_macaque': 0.377552, 'Human': 0.372344, 'Fruit_fly': 0.45949399999999996, 'Methanocaldococcus_jannaschii': 0.8198110000000001, 'Pyrococcus': 0.794633, 'Yeast': 0.5347230000000001, 'Soy': 0.485311, 'Arabidopsis': 0.486399, 'Rice': 0.492858, 'African_frog': 0.301205, 'Rat': 0.365136, 'Mouse': 0.358321, 'Pig': 0.38454199999999994, 'Salmon': 0}, 'Rat': {'Fin_whale': 0.125989, 'Monkey_macaque': 0.12340799999999999, 'Human': 0.1182, 'Fruit_fly': 0.357888, 'Methanocaldococcus_jannaschii': 0.7182050000000001, 'Pyrococcus': 0.6930270000000001, 'Yeast': 0.433117, 'Soy': 0.38370499999999996, 'Arabidopsis': 0.38479299999999994, 'Rice': 0.391252, 'African_frog': 0.260217, 'Salmon': 0.365136, 'Mouse': 0.052209, 'Pig': 0.130398, 'Rat': 0}, 'Mouse': {'Fin_whale': 0.119174, 'Monkey_macaque': 0.116593, 'Human': 0.111385, 'Fruit_fly': 0.35107299999999997, 'Methanocaldococcus_jannaschii': 0.7113900000000001, 'Pyrococcus': 0.686212, 'Yeast': 0.42630199999999996, 'Soy': 0.37688999999999995, 'Arabidopsis': 0.3779779999999999, 'Rice': 0.38443700000000003, 'African_frog': 0.253402, 'Salmon': 0.358321, 'Rat': 0.052209, 'Pig': 0.123583, 'Mouse': 0}, 'Pig': {'Fin_whale': 0.076305, 'Monkey_macaque': 0.102198, 'Human': 0.09698999999999999, 'Fruit_fly': 0.37729399999999996, 'Methanocaldococcus_jannaschii': 0.737611, 'Pyrococcus': 0.712433, 'Yeast': 0.452523, 'Soy': 0.40311099999999994, 'Arabidopsis': 0.404199, 'Rice': 0.41065799999999997, 'African_frog': 0.27962299999999995, 'Salmon': 0.38454199999999994, 'Rat': 0.130398, 'Mouse': 0.123583, 'Pig': 0}}\""
   ]
  },
  {
   "cell_type": "code",
   "execution_count": 3,
   "metadata": {
    "pycharm": {
     "is_executing": false,
     "metadata": false,
     "name": "#%%\n"
    }
   },
   "outputs": [
    {
     "name": "stdout",
     "output_type": "stream",
     "text": [
      "['Fin_whale', 'Monkey_macaque', 'Human', 'Fruit_fly', 'Methanocaldococcus_jannaschii', 'Pyrococcus', 'Yeast', 'Soy', 'Arabidopsis', 'Rice', 'African_frog', 'Salmon', 'Rat', 'Mouse', 'Pig']\n"
     ]
    }
   ],
   "source": [
    "d = ast.literal_eval(dict_str)\n",
    "keys = list(d.keys())\n",
    "print(keys)"
   ]
  },
  {
   "cell_type": "code",
   "execution_count": 4,
   "metadata": {
    "pycharm": {
     "is_executing": false,
     "metadata": false,
     "name": "#%%\n"
    }
   },
   "outputs": [
    {
     "name": "stdout",
     "output_type": "stream",
     "text": [
      "                               African_frog  Arabidopsis  Fin_whale  \\\n",
      "African_frog                       0.000000     0.381480   0.275214   \n",
      "Arabidopsis                        0.381480     0.000000   0.399790   \n",
      "Fin_whale                          0.275214     0.399790   0.000000   \n",
      "Fruit_fly                          0.354575     0.404227   0.372885   \n",
      "Human                              0.267425     0.392001   0.092581   \n",
      "Methanocaldococcus_jannaschii      0.714892     0.725826   0.733202   \n",
      "Monkey_macaque                     0.272633     0.397209   0.097789   \n",
      "Mouse                              0.253402     0.377978   0.119174   \n",
      "Pig                                0.279623     0.404199   0.076305   \n",
      "Pyrococcus                         0.689714     0.700648   0.708024   \n",
      "Rat                                0.260217     0.384793   0.125989   \n",
      "Rice                               0.387939     0.321829   0.406249   \n",
      "Salmon                             0.301205     0.486399   0.380133   \n",
      "Soy                                0.380392     0.218876   0.398702   \n",
      "Yeast                              0.429804     0.440738   0.448114   \n",
      "\n",
      "                               Fruit_fly     Human  \\\n",
      "African_frog                    0.354575  0.267425   \n",
      "Arabidopsis                     0.404227  0.392001   \n",
      "Fin_whale                       0.372885  0.092581   \n",
      "Fruit_fly                       0.000000  0.365096   \n",
      "Human                           0.365096  0.000000   \n",
      "Methanocaldococcus_jannaschii   0.737639  0.725413   \n",
      "Monkey_macaque                  0.370304  0.028112   \n",
      "Mouse                           0.351073  0.111385   \n",
      "Pig                             0.377294  0.096990   \n",
      "Pyrococcus                      0.712461  0.700235   \n",
      "Rat                             0.357888  0.118200   \n",
      "Rice                            0.410686  0.398460   \n",
      "Salmon                          0.459494  0.372344   \n",
      "Soy                             0.403139  0.390913   \n",
      "Yeast                           0.452551  0.440325   \n",
      "\n",
      "                               Methanocaldococcus_jannaschii  Monkey_macaque  \\\n",
      "African_frog                                        0.714892        0.272633   \n",
      "Arabidopsis                                         0.725826        0.397209   \n",
      "Fin_whale                                           0.733202        0.097789   \n",
      "Fruit_fly                                           0.737639        0.370304   \n",
      "Human                                               0.725413        0.028112   \n",
      "Methanocaldococcus_jannaschii                       0.000000        0.730621   \n",
      "Monkey_macaque                                      0.730621        0.000000   \n",
      "Mouse                                               0.711390        0.116593   \n",
      "Pig                                                 0.737611        0.102198   \n",
      "Pyrococcus                                          0.228916        0.705443   \n",
      "Rat                                                 0.718205        0.123408   \n",
      "Rice                                                0.732285        0.403668   \n",
      "Salmon                                              0.819811        0.377552   \n",
      "Soy                                                 0.724738        0.396121   \n",
      "Yeast                                               0.680260        0.445533   \n",
      "\n",
      "                                  Mouse       Pig  Pyrococcus       Rat  \\\n",
      "African_frog                   0.253402  0.279623    0.689714  0.260217   \n",
      "Arabidopsis                    0.377978  0.404199    0.700648  0.384793   \n",
      "Fin_whale                      0.119174  0.076305    0.708024  0.125989   \n",
      "Fruit_fly                      0.351073  0.377294    0.712461  0.357888   \n",
      "Human                          0.111385  0.096990    0.700235  0.118200   \n",
      "Methanocaldococcus_jannaschii  0.711390  0.737611    0.228916  0.718205   \n",
      "Monkey_macaque                 0.116593  0.102198    0.705443  0.123408   \n",
      "Mouse                          0.000000  0.123583    0.686212  0.052209   \n",
      "Pig                            0.123583  0.000000    0.712433  0.130398   \n",
      "Pyrococcus                     0.686212  0.712433    0.000000  0.693027   \n",
      "Rat                            0.052209  0.130398    0.693027  0.000000   \n",
      "Rice                           0.384437  0.410658    0.707107  0.391252   \n",
      "Salmon                         0.358321  0.384542    0.794633  0.365136   \n",
      "Soy                            0.376890  0.403111    0.699560  0.383705   \n",
      "Yeast                          0.426302  0.452523    0.655082  0.433117   \n",
      "\n",
      "                                   Rice    Salmon       Soy     Yeast  \n",
      "African_frog                   0.387939  0.301205  0.380392  0.429804  \n",
      "Arabidopsis                    0.321829  0.486399  0.218876  0.440738  \n",
      "Fin_whale                      0.406249  0.380133  0.398702  0.448114  \n",
      "Fruit_fly                      0.410686  0.459494  0.403139  0.452551  \n",
      "Human                          0.398460  0.372344  0.390913  0.440325  \n",
      "Methanocaldococcus_jannaschii  0.732285  0.819811  0.724738  0.680260  \n",
      "Monkey_macaque                 0.403668  0.377552  0.396121  0.445533  \n",
      "Mouse                          0.384437  0.358321  0.376890  0.426302  \n",
      "Pig                            0.410658  0.384542  0.403111  0.452523  \n",
      "Pyrococcus                     0.707107  0.794633  0.699560  0.655082  \n",
      "Rat                            0.391252  0.365136  0.383705  0.433117  \n",
      "Rice                           0.000000  0.492858  0.320741  0.447197  \n",
      "Salmon                         0.492858  0.000000  0.485311  0.534723  \n",
      "Soy                            0.320741  0.485311  0.000000  0.439650  \n",
      "Yeast                          0.447197  0.534723  0.439650  0.000000  \n"
     ]
    },
    {
     "name": "stderr",
     "output_type": "stream",
     "text": [
      "/srv/conda/lib/python3.6/site-packages/ipykernel_launcher.py:5: FutureWarning: Method .as_matrix will be removed in a future version. Use .values instead.\n",
      "  \"\"\"\n"
     ]
    }
   ],
   "source": [
    "matrix = pd.DataFrame(d)\n",
    "matrix = matrix.sort_index(axis=0)\n",
    "matrix = matrix.sort_index(axis=1)\n",
    "\n",
    "np_matrix = np.array(matrix.as_matrix())\n",
    "print(matrix)"
   ]
  },
  {
   "cell_type": "code",
   "execution_count": 5,
   "metadata": {
    "pycharm": {
     "is_executing": false,
     "metadata": false,
     "name": "#%%\n"
    }
   },
   "outputs": [],
   "source": [
    "dbscan = DBSCAN(metric='precomputed', min_samples=1, eps=.28)"
   ]
  },
  {
   "cell_type": "code",
   "execution_count": 6,
   "metadata": {
    "pycharm": {
     "is_executing": false,
     "metadata": false,
     "name": "#%%\n"
    }
   },
   "outputs": [],
   "source": [
    "db = dbscan.fit(np_matrix)"
   ]
  },
  {
   "cell_type": "code",
   "execution_count": 7,
   "metadata": {
    "pycharm": {
     "is_executing": false,
     "metadata": false,
     "name": "#%%\n"
    }
   },
   "outputs": [],
   "source": [
    "clusters = db.labels_"
   ]
  },
  {
   "cell_type": "code",
   "execution_count": 8,
   "metadata": {
    "pycharm": {
     "is_executing": false,
     "metadata": false,
     "name": "#%%\n"
    }
   },
   "outputs": [
    {
     "name": "stdout",
     "output_type": "stream",
     "text": [
      "Fin_whale: cluster 0\n",
      "Monkey_macaque: cluster 1\n",
      "Human: cluster 0\n",
      "Fruit_fly: cluster 2\n",
      "Methanocaldococcus_jannaschii: cluster 0\n",
      "Pyrococcus: cluster 3\n",
      "Yeast: cluster 0\n",
      "Soy: cluster 0\n",
      "Arabidopsis: cluster 0\n",
      "Rice: cluster 3\n",
      "African_frog: cluster 0\n",
      "Salmon: cluster 4\n",
      "Rat: cluster 5\n",
      "Mouse: cluster 1\n",
      "Pig: cluster 6\n"
     ]
    }
   ],
   "source": [
    "for i in range(len(clusters)):\n",
    "    print(keys[i] + ': cluster ' + str(clusters[i]))"
   ]
  }
 ],
 "metadata": {
  "kernelspec": {
   "display_name": "Python 3",
   "language": "python",
   "name": "python3"
  },
  "language_info": {
   "codemirror_mode": {
    "name": "ipython",
    "version": 3
   },
   "file_extension": ".py",
   "mimetype": "text/x-python",
   "name": "python",
   "nbconvert_exporter": "python",
   "pygments_lexer": "ipython3",
   "version": "3.6.7"
  }
 },
 "nbformat": 4,
 "nbformat_minor": 1
}
